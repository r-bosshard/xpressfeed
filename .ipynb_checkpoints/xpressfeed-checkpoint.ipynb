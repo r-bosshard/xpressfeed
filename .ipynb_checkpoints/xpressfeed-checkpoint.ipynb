{
 "cells": [
  {
   "cell_type": "code",
   "execution_count": null,
   "metadata": {},
   "outputs": [],
   "source": [
    "import pyodbc\n",
    "import pandas as pd\n",
    "\n",
    "#logging in to xpressfeed using desktop credentials\n",
    "QA_SERVER = 'qaidbsql01\\qa2008'\n",
    "QA_DB = 'Xpressfeed'\n",
    "_SQL_SERVER_DRIVER = '{SQL Server}'\n",
    "\n",
    "server = QA_SERVER\n",
    "database = QA_DB\n",
    "connStr = 'DRIVER=' + _SQL_SERVER_DRIVER + ';' + 'SERVER={0};DATABASE={1};TDS_Version=8.0;Trusted_Connection=yes;'.format(server, database)\n",
    "conn = pyodbc.connect(connStr)"
   ]
  },
  {
   "cell_type": "code",
   "execution_count": 8,
   "metadata": {},
   "outputs": [],
   "source": [
    "query_str = 'SELECT c.companyId, fi.periodEndDate, fi.filingDate, fp.fiscalchainSeriesId as fiscalChainSeriesId,' \\\n",
    "                    'fp.fiscalQuarter, fp.fiscalYear, fd.dataItemValue * fu.unitTypeValue as actualFundamentalSales ' \\\n",
    "                    'FROM Xpressfeed..ciqCompany c JOIN Xpressfeed..ciqFinPeriod fp ON fp.companyId = c.companyId ' \\\n",
    "                    'JOIN Xpressfeed..ciqFinInstance fi ON fi.financialPeriodId = fp.financialPeriodId ' \\\n",
    "                    'JOIN Xpressfeed..ciqFinInstanceToCollection ic ON ic.financialInstanceId = fi.financialInstanceId ' \\\n",
    "                    'JOIN Xpressfeed..ciqFinCollectionData fd ON fd.financialCollectionId = ic.financialCollectionId ' \\\n",
    "                    'JOIN Xpressfeed..ciqFinUnitType fu ON fd.unitTypeId = fu.unitTypeId ' \\\n",
    "                    'WHERE c.companyId in (21835, 21888) AND fd.dataItemId IN (112) AND fp.periodTypeId=2'\n",
    "                    \n",
    "df = pd.read_sql(query_str, conn)"
   ]
  },
  {
   "cell_type": "code",
   "execution_count": null,
   "metadata": {},
   "outputs": [],
   "source": [
    "#Apple Sales\n",
    "\n",
    "#company id\n",
    "ciq_id = \"24937\"\n",
    "\n",
    "#gross pp&e\n",
    "line_item = '1169'\n",
    "line_item_name = \"Gross PP&E\"\n",
    "\n",
    "#annual data (1-annual; 2-Quarterly; 3-YTD; 4-LTM; 10-Semi-Annual; 17:Interim )\n",
    "period_type = '1'\n",
    "\n",
    "#fiscal year\n",
    "fiscal_year = '2018'\n",
    "\n",
    "#latest filing\n",
    "financial_flag = '1'\n",
    "\n",
    "\n",
    "query_str = 'SELECT c.companyId, fi.periodEndDate, fi.filingDate, fp.fiscalchainSeriesId as fiscalChainSeriesId,' \\\n",
    "                    'fp.fiscalQuarter, fp.fiscalYear, fd.dataItemValue * fu.unitTypeValue as data_item ' \\\n",
    "                    'FROM Xpressfeed..ciqCompany c JOIN Xpressfeed..ciqFinPeriod fp ON fp.companyId = c.companyId ' \\\n",
    "                    'JOIN Xpressfeed..ciqFinInstance fi ON fi.financialPeriodId = fp.financialPeriodId ' \\\n",
    "                    'JOIN Xpressfeed..ciqFinInstanceToCollection ic ON ic.financialInstanceId = fi.financialInstanceId ' \\\n",
    "                    'JOIN Xpressfeed..ciqFinCollectionData fd ON fd.financialCollectionId = ic.financialCollectionId ' \\\n",
    "                    'JOIN Xpressfeed..ciqFinUnitType fu ON fd.unitTypeId = fu.unitTypeId ' \\\n",
    "                    'WHERE c.companyId={0} AND fd.dataItemId={1} AND fp.periodTypeId={2} AND ' \\\n",
    "                    'fp.fiscalYear={3} AND fi.latestForFinancialPeriodFlag = {4}'.format(ciq_id, line_item, period_type, fiscal_year, financial_flag)\n",
    "                    \n",
    "df = pd.read_sql(query_str, conn)\n",
    "df"
   ]
  },
  {
   "cell_type": "code",
   "execution_count": 30,
   "metadata": {},
   "outputs": [
    {
     "ename": "DatabaseError",
     "evalue": "Execution failed on sql 'SELECT c.companyId, fi.periodEndDate, fi.filingDate, fp.fiscalchainSeriesId as fiscalChainSeriesId,fp.fiscalQuarter, fp.fiscalYear, fd.dataItemName, fn.dataItemName, fd.dataItemValue * fu.unitTypeValue as data_item FROM Xpressfeed..ciqCompany c JOIN Xpressfeed..ciqFinPeriod fp ON fp.companyId = c.companyId JOIN Xpressfeed..ciqFinInstance fi ON fi.financialPeriodId = fp.financialPeriodId JOIN Xpressfeed..ciqFinInstanceToCollection ic ON ic.financialInstanceId = fi.financialInstanceId JOIN Xpressfeed..ciqFinCollectionData fd ON fd.financialCollectionId = ic.financialCollectionId JOIN Xpressfeed..ciqDataItem fn ON fd.dataItemId = fn.dataItemId JOIN Xpressfeed..ciqFinUnitType fu ON fd.unitTypeId = fu.unitTypeId WHERE c.companyId IN (24937, 1462309) AND fd.dataItemId IN (1169 ,1) AND fp.periodTypeId=1 AND fp.fiscalYear=2018 AND fi.latestForFinancialPeriodFlag = 1': ('42S22', \"[42S22] [Microsoft][ODBC SQL Server Driver][SQL Server]Invalid column name 'dataItemName'. (207) (SQLExecDirectW)\")",
     "output_type": "error",
     "traceback": [
      "\u001b[1;31m---------------------------------------------------------------------------\u001b[0m",
      "\u001b[1;31mProgrammingError\u001b[0m                          Traceback (most recent call last)",
      "\u001b[1;32mc:\\users\\rbosshard\\appdata\\local\\programs\\python\\python36-32\\lib\\site-packages\\pandas\\io\\sql.py\u001b[0m in \u001b[0;36mexecute\u001b[1;34m(self, *args, **kwargs)\u001b[0m\n\u001b[0;32m   1408\u001b[0m             \u001b[1;32melse\u001b[0m\u001b[1;33m:\u001b[0m\u001b[1;33m\u001b[0m\u001b[0m\n\u001b[1;32m-> 1409\u001b[1;33m                 \u001b[0mcur\u001b[0m\u001b[1;33m.\u001b[0m\u001b[0mexecute\u001b[0m\u001b[1;33m(\u001b[0m\u001b[1;33m*\u001b[0m\u001b[0margs\u001b[0m\u001b[1;33m)\u001b[0m\u001b[1;33m\u001b[0m\u001b[0m\n\u001b[0m\u001b[0;32m   1410\u001b[0m             \u001b[1;32mreturn\u001b[0m \u001b[0mcur\u001b[0m\u001b[1;33m\u001b[0m\u001b[0m\n",
      "\u001b[1;31mProgrammingError\u001b[0m: ('42S22', \"[42S22] [Microsoft][ODBC SQL Server Driver][SQL Server]Invalid column name 'dataItemName'. (207) (SQLExecDirectW)\")",
      "\nDuring handling of the above exception, another exception occurred:\n",
      "\u001b[1;31mDatabaseError\u001b[0m                             Traceback (most recent call last)",
      "\u001b[1;32m<ipython-input-30-c2671e978176>\u001b[0m in \u001b[0;36m<module>\u001b[1;34m()\u001b[0m\n\u001b[0;32m     20\u001b[0m \u001b[0mquery_str\u001b[0m \u001b[1;33m=\u001b[0m \u001b[1;34m'SELECT c.companyId, fi.periodEndDate, fi.filingDate, fp.fiscalchainSeriesId as fiscalChainSeriesId,'\u001b[0m                     \u001b[1;34m'fp.fiscalQuarter, fp.fiscalYear, fd.dataItemName, fn.dataItemName, fd.dataItemValue * fu.unitTypeValue as data_item '\u001b[0m                     \u001b[1;34m'FROM Xpressfeed..ciqCompany c JOIN Xpressfeed..ciqFinPeriod fp ON fp.companyId = c.companyId '\u001b[0m                     \u001b[1;34m'JOIN Xpressfeed..ciqFinInstance fi ON fi.financialPeriodId = fp.financialPeriodId '\u001b[0m                     \u001b[1;34m'JOIN Xpressfeed..ciqFinInstanceToCollection ic ON ic.financialInstanceId = fi.financialInstanceId '\u001b[0m                     \u001b[1;34m'JOIN Xpressfeed..ciqFinCollectionData fd ON fd.financialCollectionId = ic.financialCollectionId '\u001b[0m                     \u001b[1;34m'JOIN Xpressfeed..ciqDataItem fn ON fd.dataItemId = fn.dataItemId '\u001b[0m                     \u001b[1;34m'JOIN Xpressfeed..ciqFinUnitType fu ON fd.unitTypeId = fu.unitTypeId '\u001b[0m                     \u001b[1;34m'WHERE c.companyId IN ({0}) AND fd.dataItemId IN ({1}) AND fp.periodTypeId={2} AND '\u001b[0m                     \u001b[1;34m'fp.fiscalYear={3} AND fi.latestForFinancialPeriodFlag = {4}'\u001b[0m\u001b[1;33m.\u001b[0m\u001b[0mformat\u001b[0m\u001b[1;33m(\u001b[0m\u001b[1;34m', '\u001b[0m\u001b[1;33m.\u001b[0m\u001b[0mjoin\u001b[0m\u001b[1;33m(\u001b[0m\u001b[0mciq_id\u001b[0m\u001b[1;33m)\u001b[0m\u001b[1;33m,\u001b[0m \u001b[1;34m' ,'\u001b[0m\u001b[1;33m.\u001b[0m\u001b[0mjoin\u001b[0m\u001b[1;33m(\u001b[0m\u001b[0mline_item\u001b[0m\u001b[1;33m)\u001b[0m\u001b[1;33m,\u001b[0m \u001b[0mperiod_type\u001b[0m\u001b[1;33m,\u001b[0m \u001b[0mfiscal_year\u001b[0m\u001b[1;33m,\u001b[0m \u001b[0mfinancial_flag\u001b[0m\u001b[1;33m)\u001b[0m\u001b[1;33m\u001b[0m\u001b[0m\n\u001b[0;32m     21\u001b[0m \u001b[1;33m\u001b[0m\u001b[0m\n\u001b[1;32m---> 22\u001b[1;33m \u001b[0mdf\u001b[0m \u001b[1;33m=\u001b[0m \u001b[0mpd\u001b[0m\u001b[1;33m.\u001b[0m\u001b[0mread_sql\u001b[0m\u001b[1;33m(\u001b[0m\u001b[0mquery_str\u001b[0m\u001b[1;33m,\u001b[0m \u001b[0mconn\u001b[0m\u001b[1;33m)\u001b[0m\u001b[1;33m\u001b[0m\u001b[0m\n\u001b[0m\u001b[0;32m     23\u001b[0m \u001b[0mdf\u001b[0m\u001b[1;33m\u001b[0m\u001b[0m\n",
      "\u001b[1;32mc:\\users\\rbosshard\\appdata\\local\\programs\\python\\python36-32\\lib\\site-packages\\pandas\\io\\sql.py\u001b[0m in \u001b[0;36mread_sql\u001b[1;34m(sql, con, index_col, coerce_float, params, parse_dates, columns, chunksize)\u001b[0m\n\u001b[0;32m    398\u001b[0m             \u001b[0msql\u001b[0m\u001b[1;33m,\u001b[0m \u001b[0mindex_col\u001b[0m\u001b[1;33m=\u001b[0m\u001b[0mindex_col\u001b[0m\u001b[1;33m,\u001b[0m \u001b[0mparams\u001b[0m\u001b[1;33m=\u001b[0m\u001b[0mparams\u001b[0m\u001b[1;33m,\u001b[0m\u001b[1;33m\u001b[0m\u001b[0m\n\u001b[0;32m    399\u001b[0m             \u001b[0mcoerce_float\u001b[0m\u001b[1;33m=\u001b[0m\u001b[0mcoerce_float\u001b[0m\u001b[1;33m,\u001b[0m \u001b[0mparse_dates\u001b[0m\u001b[1;33m=\u001b[0m\u001b[0mparse_dates\u001b[0m\u001b[1;33m,\u001b[0m\u001b[1;33m\u001b[0m\u001b[0m\n\u001b[1;32m--> 400\u001b[1;33m             chunksize=chunksize)\n\u001b[0m\u001b[0;32m    401\u001b[0m \u001b[1;33m\u001b[0m\u001b[0m\n\u001b[0;32m    402\u001b[0m     \u001b[1;32mtry\u001b[0m\u001b[1;33m:\u001b[0m\u001b[1;33m\u001b[0m\u001b[0m\n",
      "\u001b[1;32mc:\\users\\rbosshard\\appdata\\local\\programs\\python\\python36-32\\lib\\site-packages\\pandas\\io\\sql.py\u001b[0m in \u001b[0;36mread_query\u001b[1;34m(self, sql, index_col, coerce_float, params, parse_dates, chunksize)\u001b[0m\n\u001b[0;32m   1442\u001b[0m \u001b[1;33m\u001b[0m\u001b[0m\n\u001b[0;32m   1443\u001b[0m         \u001b[0margs\u001b[0m \u001b[1;33m=\u001b[0m \u001b[0m_convert_params\u001b[0m\u001b[1;33m(\u001b[0m\u001b[0msql\u001b[0m\u001b[1;33m,\u001b[0m \u001b[0mparams\u001b[0m\u001b[1;33m)\u001b[0m\u001b[1;33m\u001b[0m\u001b[0m\n\u001b[1;32m-> 1444\u001b[1;33m         \u001b[0mcursor\u001b[0m \u001b[1;33m=\u001b[0m \u001b[0mself\u001b[0m\u001b[1;33m.\u001b[0m\u001b[0mexecute\u001b[0m\u001b[1;33m(\u001b[0m\u001b[1;33m*\u001b[0m\u001b[0margs\u001b[0m\u001b[1;33m)\u001b[0m\u001b[1;33m\u001b[0m\u001b[0m\n\u001b[0m\u001b[0;32m   1445\u001b[0m         \u001b[0mcolumns\u001b[0m \u001b[1;33m=\u001b[0m \u001b[1;33m[\u001b[0m\u001b[0mcol_desc\u001b[0m\u001b[1;33m[\u001b[0m\u001b[1;36m0\u001b[0m\u001b[1;33m]\u001b[0m \u001b[1;32mfor\u001b[0m \u001b[0mcol_desc\u001b[0m \u001b[1;32min\u001b[0m \u001b[0mcursor\u001b[0m\u001b[1;33m.\u001b[0m\u001b[0mdescription\u001b[0m\u001b[1;33m]\u001b[0m\u001b[1;33m\u001b[0m\u001b[0m\n\u001b[0;32m   1446\u001b[0m \u001b[1;33m\u001b[0m\u001b[0m\n",
      "\u001b[1;32mc:\\users\\rbosshard\\appdata\\local\\programs\\python\\python36-32\\lib\\site-packages\\pandas\\io\\sql.py\u001b[0m in \u001b[0;36mexecute\u001b[1;34m(self, *args, **kwargs)\u001b[0m\n\u001b[0;32m   1419\u001b[0m             ex = DatabaseError(\n\u001b[0;32m   1420\u001b[0m                 \"Execution failed on sql '%s': %s\" % (args[0], exc))\n\u001b[1;32m-> 1421\u001b[1;33m             \u001b[0mraise_with_traceback\u001b[0m\u001b[1;33m(\u001b[0m\u001b[0mex\u001b[0m\u001b[1;33m)\u001b[0m\u001b[1;33m\u001b[0m\u001b[0m\n\u001b[0m\u001b[0;32m   1422\u001b[0m \u001b[1;33m\u001b[0m\u001b[0m\n\u001b[0;32m   1423\u001b[0m     \u001b[1;33m@\u001b[0m\u001b[0mstaticmethod\u001b[0m\u001b[1;33m\u001b[0m\u001b[0m\n",
      "\u001b[1;32mc:\\users\\rbosshard\\appdata\\local\\programs\\python\\python36-32\\lib\\site-packages\\pandas\\compat\\__init__.py\u001b[0m in \u001b[0;36mraise_with_traceback\u001b[1;34m(exc, traceback)\u001b[0m\n\u001b[0;32m    383\u001b[0m         \u001b[1;32mif\u001b[0m \u001b[0mtraceback\u001b[0m \u001b[1;33m==\u001b[0m \u001b[0mEllipsis\u001b[0m\u001b[1;33m:\u001b[0m\u001b[1;33m\u001b[0m\u001b[0m\n\u001b[0;32m    384\u001b[0m             \u001b[0m_\u001b[0m\u001b[1;33m,\u001b[0m \u001b[0m_\u001b[0m\u001b[1;33m,\u001b[0m \u001b[0mtraceback\u001b[0m \u001b[1;33m=\u001b[0m \u001b[0msys\u001b[0m\u001b[1;33m.\u001b[0m\u001b[0mexc_info\u001b[0m\u001b[1;33m(\u001b[0m\u001b[1;33m)\u001b[0m\u001b[1;33m\u001b[0m\u001b[0m\n\u001b[1;32m--> 385\u001b[1;33m         \u001b[1;32mraise\u001b[0m \u001b[0mexc\u001b[0m\u001b[1;33m.\u001b[0m\u001b[0mwith_traceback\u001b[0m\u001b[1;33m(\u001b[0m\u001b[0mtraceback\u001b[0m\u001b[1;33m)\u001b[0m\u001b[1;33m\u001b[0m\u001b[0m\n\u001b[0m\u001b[0;32m    386\u001b[0m \u001b[1;32melse\u001b[0m\u001b[1;33m:\u001b[0m\u001b[1;33m\u001b[0m\u001b[0m\n\u001b[0;32m    387\u001b[0m     \u001b[1;31m# this version of raise is a syntax error in Python 3\u001b[0m\u001b[1;33m\u001b[0m\u001b[1;33m\u001b[0m\u001b[0m\n",
      "\u001b[1;32mc:\\users\\rbosshard\\appdata\\local\\programs\\python\\python36-32\\lib\\site-packages\\pandas\\io\\sql.py\u001b[0m in \u001b[0;36mexecute\u001b[1;34m(self, *args, **kwargs)\u001b[0m\n\u001b[0;32m   1407\u001b[0m                 \u001b[0mcur\u001b[0m\u001b[1;33m.\u001b[0m\u001b[0mexecute\u001b[0m\u001b[1;33m(\u001b[0m\u001b[1;33m*\u001b[0m\u001b[0margs\u001b[0m\u001b[1;33m,\u001b[0m \u001b[1;33m**\u001b[0m\u001b[0mkwargs\u001b[0m\u001b[1;33m)\u001b[0m\u001b[1;33m\u001b[0m\u001b[0m\n\u001b[0;32m   1408\u001b[0m             \u001b[1;32melse\u001b[0m\u001b[1;33m:\u001b[0m\u001b[1;33m\u001b[0m\u001b[0m\n\u001b[1;32m-> 1409\u001b[1;33m                 \u001b[0mcur\u001b[0m\u001b[1;33m.\u001b[0m\u001b[0mexecute\u001b[0m\u001b[1;33m(\u001b[0m\u001b[1;33m*\u001b[0m\u001b[0margs\u001b[0m\u001b[1;33m)\u001b[0m\u001b[1;33m\u001b[0m\u001b[0m\n\u001b[0m\u001b[0;32m   1410\u001b[0m             \u001b[1;32mreturn\u001b[0m \u001b[0mcur\u001b[0m\u001b[1;33m\u001b[0m\u001b[0m\n\u001b[0;32m   1411\u001b[0m         \u001b[1;32mexcept\u001b[0m \u001b[0mException\u001b[0m \u001b[1;32mas\u001b[0m \u001b[0mexc\u001b[0m\u001b[1;33m:\u001b[0m\u001b[1;33m\u001b[0m\u001b[0m\n",
      "\u001b[1;31mDatabaseError\u001b[0m: Execution failed on sql 'SELECT c.companyId, fi.periodEndDate, fi.filingDate, fp.fiscalchainSeriesId as fiscalChainSeriesId,fp.fiscalQuarter, fp.fiscalYear, fd.dataItemName, fn.dataItemName, fd.dataItemValue * fu.unitTypeValue as data_item FROM Xpressfeed..ciqCompany c JOIN Xpressfeed..ciqFinPeriod fp ON fp.companyId = c.companyId JOIN Xpressfeed..ciqFinInstance fi ON fi.financialPeriodId = fp.financialPeriodId JOIN Xpressfeed..ciqFinInstanceToCollection ic ON ic.financialInstanceId = fi.financialInstanceId JOIN Xpressfeed..ciqFinCollectionData fd ON fd.financialCollectionId = ic.financialCollectionId JOIN Xpressfeed..ciqDataItem fn ON fd.dataItemId = fn.dataItemId JOIN Xpressfeed..ciqFinUnitType fu ON fd.unitTypeId = fu.unitTypeId WHERE c.companyId IN (24937, 1462309) AND fd.dataItemId IN (1169 ,1) AND fp.periodTypeId=1 AND fp.fiscalYear=2018 AND fi.latestForFinancialPeriodFlag = 1': ('42S22', \"[42S22] [Microsoft][ODBC SQL Server Driver][SQL Server]Invalid column name 'dataItemName'. (207) (SQLExecDirectW)\")"
     ]
    }
   ],
   "source": [
    "#Apple Sales\n",
    "\n",
    "#company id \n",
    "ciq_id = [\"24937\", \"1462309\"]\n",
    "\n",
    "#gross pp&e & sales\n",
    "line_item = ['1169', \"1\"]\n",
    "line_item_name = \"Gross PP&E\"\n",
    "\n",
    "#annual data (1-annual; 2-Quarterly; 3-YTD; 4-LTM; 10-Semi-Annual; 17:Interim )\n",
    "period_type = '1'\n",
    "\n",
    "#fiscal year\n",
    "fiscal_year = '2018'\n",
    "\n",
    "#latest filing\n",
    "financial_flag = '1'\n",
    "\n",
    "\n",
    "query_str = 'SELECT c.companyId, fi.periodEndDate, fi.filingDate, fp.fiscalchainSeriesId as fiscalChainSeriesId,' \\\n",
    "                    'fp.fiscalQuarter, fp.fiscalYear, fd.dataItemName, fn.dataItemName, fd.dataItemValue * fu.unitTypeValue as data_item ' \\\n",
    "                    'FROM Xpressfeed..ciqCompany c JOIN Xpressfeed..ciqFinPeriod fp ON fp.companyId = c.companyId ' \\\n",
    "                    'JOIN Xpressfeed..ciqFinInstance fi ON fi.financialPeriodId = fp.financialPeriodId ' \\\n",
    "                    'JOIN Xpressfeed..ciqFinInstanceToCollection ic ON ic.financialInstanceId = fi.financialInstanceId ' \\\n",
    "                    'JOIN Xpressfeed..ciqFinCollectionData fd ON fd.financialCollectionId = ic.financialCollectionId ' \\\n",
    "                    'JOIN Xpressfeed..ciqDataItem fn ON fd.dataItemId = fn.dataItemId ' \\\n",
    "                    'JOIN Xpressfeed..ciqFinUnitType fu ON fd.unitTypeId = fu.unitTypeId ' \\\n",
    "                    'WHERE c.companyId IN ({0}) AND fd.dataItemId IN ({1}) AND fp.periodTypeId={2} AND ' \\\n",
    "                    'fp.fiscalYear={3} AND fi.latestForFinancialPeriodFlag = {4}'.format(', '.join(ciq_id), ' ,'.join(line_item), period_type, fiscal_year, financial_flag)\n",
    "                    \n",
    "df = pd.read_sql(query_str, conn)\n",
    "df"
   ]
  },
  {
   "cell_type": "code",
   "execution_count": null,
   "metadata": {},
   "outputs": [],
   "source": [
    "query_str = query_str = 'SELECT c.companyId, fi.periodEndDate, fi.filingDate, ' \\\n",
    "                 fp.fiscalQuarter, fp.fiscalYear, fd.dataItemId, fd.dataItemValue * fu.unitTypeValue as data_item, fz.dataItemName ' \\\n",
    "                    'FROM Xpressfeed..ciqCompany c JOIN Xpressfeed..ciqFinPeriod fp ON fp.companyId = c.companyId ' \\\n",
    "                    'JOIN Xpressfeed..ciqFinInstance fi ON fi.financialPeriodId = fp.financialPeriodId ' \\\n",
    "                    'JOIN Xpressfeed..ciqFinInstanceToCollection ic ON ic.financialInstanceId = fi.financialInstanceId ' \\\n",
    "                    'JOIN Xpressfeed..ciqFinCollectionData fd ON fd.financialCollectionId = ic.financialCollectionId ' \\\n",
    "                    'JOIN Xpressfeed..ciqDataItem fz ON fz.dataItemId = fd.dataItemId ' \\\n",
    "                    'JOIN  Xpressfeed..ciqDataItem fz ON fz.dataItemId = fd.dataItemId ' \\\n",
    "                    'JOIN Xpressfeed..ciqFinUnitType fu ON fd.unitTypeId = fu.unitTypeId ' \\\n",
    "                    'WHERE c.companyId={0} AND fd.dataItemId={1} AND fp.periodTypeId={2} AND ' \\\n",
    "                    'fp.fiscalYear={3} AND fi.latestForFinancialPeriodFlag = {4}'.format(ciq_id, line_item, period_type, fiscal_year, financial_flag)\n",
    "\n",
    "    \n",
    "df = pd.read_sql(query_str, conn)\n",
    "df"
   ]
  },
  {
   "cell_type": "code",
   "execution_count": null,
   "metadata": {},
   "outputs": [],
   "source": []
  }
 ],
 "metadata": {
  "kernelspec": {
   "display_name": "Python 3",
   "language": "python",
   "name": "python3"
  },
  "language_info": {
   "codemirror_mode": {
    "name": "ipython",
    "version": 3
   },
   "file_extension": ".py",
   "mimetype": "text/x-python",
   "name": "python",
   "nbconvert_exporter": "python",
   "pygments_lexer": "ipython3",
   "version": "3.6.3"
  }
 },
 "nbformat": 4,
 "nbformat_minor": 2
}
